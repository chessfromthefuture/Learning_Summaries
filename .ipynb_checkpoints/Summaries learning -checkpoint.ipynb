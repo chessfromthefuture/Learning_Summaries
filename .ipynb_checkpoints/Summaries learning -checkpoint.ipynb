{
 "cells": [
  {
   "cell_type": "markdown",
   "id": "d969b9a1",
   "metadata": {},
   "source": [
    "# Summaries\n",
    "\n",
    "\n"
   ]
  },
  {
   "cell_type": "markdown",
   "id": "e4ea2491",
   "metadata": {},
   "source": [
    "## SQL"
   ]
  },
  {
   "cell_type": "markdown",
   "id": "1df622e7",
   "metadata": {},
   "source": [
    "### SQL Cheatsheet"
   ]
  },
  {
   "cell_type": "markdown",
   "id": "f393b054",
   "metadata": {},
   "source": [
    "\n",
    "| Syntax      | Description |\n",
    "| :---        |    :----:   |\n",
    "| **SELECT**         | is the clause we use every time we want to query information from a database. |\n",
    "| **AS**         | renames a column or table.   |\n",
    "| **DISTINCT**         | return unique values. |\n",
    "| **WHERE**         | is a popular command that lets you filter the results of the query based on conditions that you specify.|\n",
    "| **LIKE**         | is the clause we use every time we want to query information from a database. |\n",
    "| **AND** **OR**        | combines multiple conditions.|\n",
    "| **ORDER BY**         | sorts the result. |\n",
    "| **LIMIT**         | specifies the maximum number of rows that the query will return. |\n",
    "| **CASE**      | creates different outputs.|\n"
   ]
  },
  {
   "cell_type": "markdown",
   "id": "58eea8f7",
   "metadata": {},
   "source": [
    "### SQL Functions (aggregates)"
   ]
  },
  {
   "cell_type": "markdown",
   "id": "ee926f80",
   "metadata": {},
   "source": [
    "\n",
    "| Command      | Description |\n",
    "| :---        |    :----:   |\n",
    "| **COUNT()**         | count the number of rows|\n",
    "| **SUM()**         |the sum of the values in a column  |\n",
    "| **MAX()/MIN()**         | the largest/smallest value|\n",
    "| **AVG()**         |the average of the values in a column|\n",
    "| **ROUND()**         | round the values in the column|\n"
   ]
  },
  {
   "cell_type": "markdown",
   "id": "f43a878a",
   "metadata": {},
   "source": [
    "## Markdown Cheatsheet"
   ]
  },
  {
   "cell_type": "markdown",
   "id": "003cb0a0",
   "metadata": {},
   "source": [
    "### Tables\n",
    "\n",
    "| Element      | Markdown Syntax   | Example    |\n",
    "| :---        |    :----:   |          ---: |\n",
    "| Header      | Title       | Here's this   |\n",
    "| Paragraph   | Text        | And more      |\n",
    "\n"
   ]
  },
  {
   "cell_type": "markdown",
   "id": "ee056345",
   "metadata": {},
   "source": [
    "\n",
    "### Fenced code snippet\n",
    "\n",
    "\n",
    "```\n",
    "{\n",
    "  \"firstName\": \"John\",\n",
    "  \"lastName\": \"Smith\",\n",
    "  \"age\": 25\n",
    "}\n",
    "```"
   ]
  },
  {
   "cell_type": "markdown",
   "id": "f2e4ec24",
   "metadata": {},
   "source": [
    "### Footnotes \n",
    "\n",
    "Here's a sentence with a footnote. [^1]\n",
    "\n",
    "[^1]: This is the footnote."
   ]
  },
  {
   "cell_type": "markdown",
   "id": "c90821df",
   "metadata": {},
   "source": [
    "### Shortcuts\n",
    "\n",
    "| Syntax      | Description |\n",
    "| :---        |    :----:   |\n",
    "| Heading         |   #H1   |\n",
    "| Bold         |    **bold**    |\n",
    "| italic        |    *italic*    |\n",
    "| Blockquote          | > blockquote  |\n",
    "| Ordered List         | 1. first 2. second    |\n",
    "| Unordered List        | - first - second  |\n",
    "| Code         |    **bold**    |\n",
    "| Horizontalrule        | ---     |\n",
    "| Link         | [title](https://www.example.com) |\n",
    "| Image         | ![alt text](image.jpg)    |"
   ]
  },
  {
   "cell_type": "markdown",
   "id": "1e0bc21e",
   "metadata": {},
   "source": [
    "### Strikethrough\n",
    "\n",
    "~~The world is flat.~~"
   ]
  },
  {
   "cell_type": "code",
   "execution_count": null,
   "id": "0a28e4fc",
   "metadata": {},
   "outputs": [],
   "source": []
  }
 ],
 "metadata": {
  "kernelspec": {
   "display_name": "Python 3 (ipykernel)",
   "language": "python",
   "name": "python3"
  },
  "language_info": {
   "codemirror_mode": {
    "name": "ipython",
    "version": 3
   },
   "file_extension": ".py",
   "mimetype": "text/x-python",
   "name": "python",
   "nbconvert_exporter": "python",
   "pygments_lexer": "ipython3",
   "version": "3.10.6"
  },
  "toc": {
   "base_numbering": 1,
   "nav_menu": {},
   "number_sections": true,
   "sideBar": true,
   "skip_h1_title": false,
   "title_cell": "Table of Contents",
   "title_sidebar": "Contents",
   "toc_cell": false,
   "toc_position": {},
   "toc_section_display": true,
   "toc_window_display": false
  }
 },
 "nbformat": 4,
 "nbformat_minor": 5
}
